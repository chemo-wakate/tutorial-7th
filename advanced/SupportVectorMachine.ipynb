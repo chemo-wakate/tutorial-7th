{
 "cells": [
  {
   "cell_type": "markdown",
   "metadata": {},
   "source": [
    "Support Vector Machine (SVM) を実行してみる。 [参考ドキュメント](http://scikit-learn.org/stable/modules/svm.html)"
   ]
  },
  {
   "cell_type": "code",
   "execution_count": 1,
   "metadata": {},
   "outputs": [
    {
     "name": "stdout",
     "output_type": "stream",
     "text": [
      "sys.version_info(major=3, minor=6, micro=2, releaselevel='final', serial=0)\n"
     ]
    }
   ],
   "source": [
    "import numpy as np\n",
    "import pandas as pd\n",
    "import sys\n",
    "\n",
    "from sklearn.datasets import make_regression\n",
    "from sklearn.metrics import mean_squared_error\n",
    "from sklearn.model_selection import GridSearchCV\n",
    "from sklearn.svm import SVR\n",
    "\n",
    "\n",
    "print(sys.version_info)"
   ]
  },
  {
   "cell_type": "markdown",
   "metadata": {},
   "source": [
    "### 1. データの準備"
   ]
  },
  {
   "cell_type": "markdown",
   "metadata": {},
   "source": [
    "Toyデータを用意する。  \n",
    "[make_regression](http://scikit-learn.org/stable/modules/generated/sklearn.datasets.make_regression.html)関数を使うと自身が望むような回帰分析の検証のためのサンプルデータを用意することができる。  \n",
    "今回は`サンプル数=1000`, `説明変数の数=10`, そして再現性を担保するために`random_state=0`, `shuffle=False`とした。"
   ]
  },
  {
   "cell_type": "code",
   "execution_count": 2,
   "metadata": {},
   "outputs": [],
   "source": [
    "X, y = make_regression(n_samples=1000, n_features=10,\n",
    "                                                random_state=0, shuffle=False)\n",
    "X = pd.DataFrame(X)"
   ]
  },
  {
   "cell_type": "code",
   "execution_count": 3,
   "metadata": {},
   "outputs": [
    {
     "data": {
      "text/html": [
       "<div>\n",
       "<table border=\"1\" class=\"dataframe\">\n",
       "  <thead>\n",
       "    <tr style=\"text-align: right;\">\n",
       "      <th></th>\n",
       "      <th>0</th>\n",
       "      <th>1</th>\n",
       "      <th>2</th>\n",
       "      <th>3</th>\n",
       "      <th>4</th>\n",
       "      <th>5</th>\n",
       "      <th>6</th>\n",
       "      <th>7</th>\n",
       "      <th>8</th>\n",
       "      <th>9</th>\n",
       "    </tr>\n",
       "  </thead>\n",
       "  <tbody>\n",
       "    <tr>\n",
       "      <th>0</th>\n",
       "      <td>1.764052</td>\n",
       "      <td>0.400157</td>\n",
       "      <td>0.978738</td>\n",
       "      <td>2.240893</td>\n",
       "      <td>1.867558</td>\n",
       "      <td>-0.977278</td>\n",
       "      <td>0.950088</td>\n",
       "      <td>-0.151357</td>\n",
       "      <td>-0.103219</td>\n",
       "      <td>0.410599</td>\n",
       "    </tr>\n",
       "    <tr>\n",
       "      <th>1</th>\n",
       "      <td>0.144044</td>\n",
       "      <td>1.454274</td>\n",
       "      <td>0.761038</td>\n",
       "      <td>0.121675</td>\n",
       "      <td>0.443863</td>\n",
       "      <td>0.333674</td>\n",
       "      <td>1.494079</td>\n",
       "      <td>-0.205158</td>\n",
       "      <td>0.313068</td>\n",
       "      <td>-0.854096</td>\n",
       "    </tr>\n",
       "    <tr>\n",
       "      <th>2</th>\n",
       "      <td>-2.552990</td>\n",
       "      <td>0.653619</td>\n",
       "      <td>0.864436</td>\n",
       "      <td>-0.742165</td>\n",
       "      <td>2.269755</td>\n",
       "      <td>-1.454366</td>\n",
       "      <td>0.045759</td>\n",
       "      <td>-0.187184</td>\n",
       "      <td>1.532779</td>\n",
       "      <td>1.469359</td>\n",
       "    </tr>\n",
       "    <tr>\n",
       "      <th>3</th>\n",
       "      <td>0.154947</td>\n",
       "      <td>0.378163</td>\n",
       "      <td>-0.887786</td>\n",
       "      <td>-1.980796</td>\n",
       "      <td>-0.347912</td>\n",
       "      <td>0.156349</td>\n",
       "      <td>1.230291</td>\n",
       "      <td>1.202380</td>\n",
       "      <td>-0.387327</td>\n",
       "      <td>-0.302303</td>\n",
       "    </tr>\n",
       "    <tr>\n",
       "      <th>4</th>\n",
       "      <td>-1.048553</td>\n",
       "      <td>-1.420018</td>\n",
       "      <td>-1.706270</td>\n",
       "      <td>1.950775</td>\n",
       "      <td>-0.509652</td>\n",
       "      <td>-0.438074</td>\n",
       "      <td>-1.252795</td>\n",
       "      <td>0.777490</td>\n",
       "      <td>-1.613898</td>\n",
       "      <td>-0.212740</td>\n",
       "    </tr>\n",
       "  </tbody>\n",
       "</table>\n",
       "</div>"
      ],
      "text/plain": [
       "          0         1         2         3         4         5         6  \\\n",
       "0  1.764052  0.400157  0.978738  2.240893  1.867558 -0.977278  0.950088   \n",
       "1  0.144044  1.454274  0.761038  0.121675  0.443863  0.333674  1.494079   \n",
       "2 -2.552990  0.653619  0.864436 -0.742165  2.269755 -1.454366  0.045759   \n",
       "3  0.154947  0.378163 -0.887786 -1.980796 -0.347912  0.156349  1.230291   \n",
       "4 -1.048553 -1.420018 -1.706270  1.950775 -0.509652 -0.438074 -1.252795   \n",
       "\n",
       "          7         8         9  \n",
       "0 -0.151357 -0.103219  0.410599  \n",
       "1 -0.205158  0.313068 -0.854096  \n",
       "2 -0.187184  1.532779  1.469359  \n",
       "3  1.202380 -0.387327 -0.302303  \n",
       "4  0.777490 -1.613898 -0.212740  "
      ]
     },
     "execution_count": 3,
     "metadata": {},
     "output_type": "execute_result"
    }
   ],
   "source": [
    "X.head()"
   ]
  },
  {
   "cell_type": "code",
   "execution_count": 4,
   "metadata": {},
   "outputs": [
    {
     "data": {
      "text/plain": [
       "array([ 300.2064792 ,  194.27686437,   13.25754564,  -24.6027897 ,\n",
       "        -98.76061926])"
      ]
     },
     "execution_count": 4,
     "metadata": {},
     "output_type": "execute_result"
    }
   ],
   "source": [
    "y[:5]"
   ]
  },
  {
   "cell_type": "markdown",
   "metadata": {},
   "source": [
    "サンプルサイズと説明変数の数は`shape`に保存されている。"
   ]
  },
  {
   "cell_type": "code",
   "execution_count": 5,
   "metadata": {},
   "outputs": [
    {
     "data": {
      "text/plain": [
       "(1000, 10)"
      ]
     },
     "execution_count": 5,
     "metadata": {},
     "output_type": "execute_result"
    }
   ],
   "source": [
    "X.shape"
   ]
  },
  {
   "cell_type": "markdown",
   "metadata": {},
   "source": [
    "### 2. Support Vector Machine Regression (SVR)"
   ]
  },
  {
   "cell_type": "markdown",
   "metadata": {},
   "source": [
    "#### 2.1 機械学習"
   ]
  },
  {
   "cell_type": "markdown",
   "metadata": {},
   "source": [
    "`kernel='rbf'`, `C=1.0`, `epsilon=0.2`として[SVR](http://scikit-learn.org/stable/modules/generated/sklearn.svm.SVR.html)を行ってみる。 "
   ]
  },
  {
   "cell_type": "code",
   "execution_count": 6,
   "metadata": {},
   "outputs": [
    {
     "data": {
      "text/plain": [
       "SVR(C=1.0, cache_size=200, coef0=0.0, degree=3, epsilon=0.2, gamma='auto',\n",
       "  kernel='rbf', max_iter=-1, shrinking=True, tol=0.001, verbose=False)"
      ]
     },
     "execution_count": 6,
     "metadata": {},
     "output_type": "execute_result"
    }
   ],
   "source": [
    "regr = SVR(kernel='rbf', C=1.0, epsilon=0.2)\n",
    "regr.fit(X, y)"
   ]
  },
  {
   "cell_type": "markdown",
   "metadata": {},
   "source": [
    "#### 2.2 予測および性能評価"
   ]
  },
  {
   "cell_type": "markdown",
   "metadata": {},
   "source": [
    "予測値を求めるには`predict`メソッドを用いる。"
   ]
  },
  {
   "cell_type": "code",
   "execution_count": 7,
   "metadata": {},
   "outputs": [
    {
     "data": {
      "text/plain": [
       "array([ 26.94403357,  35.96696189,  -3.57808668, -10.28559151, -18.71320019])"
      ]
     },
     "execution_count": 7,
     "metadata": {},
     "output_type": "execute_result"
    }
   ],
   "source": [
    "y_predicted = regr.predict(X)\n",
    "y_predicted[:5]"
   ]
  },
  {
   "cell_type": "markdown",
   "metadata": {},
   "source": [
    "[mean_squared_error](http://scikit-learn.org/stable/modules/generated/sklearn.metrics.mean_squared_error.html)関数を用いてMean Square Error (MSE) を求める。"
   ]
  },
  {
   "cell_type": "code",
   "execution_count": 8,
   "metadata": {},
   "outputs": [
    {
     "data": {
      "text/plain": [
       "13634.495133888204"
      ]
     },
     "execution_count": 8,
     "metadata": {},
     "output_type": "execute_result"
    }
   ],
   "source": [
    "mean_squared_error(y, y_predicted)"
   ]
  },
  {
   "cell_type": "markdown",
   "metadata": {},
   "source": [
    "また`score`メソッドを用いることで実測値と予測値の間の決定係数(r<sup>2</sup>)を求めることができる。"
   ]
  },
  {
   "cell_type": "code",
   "execution_count": 9,
   "metadata": {},
   "outputs": [
    {
     "data": {
      "text/plain": [
       "0.28662093366953867"
      ]
     },
     "execution_count": 9,
     "metadata": {},
     "output_type": "execute_result"
    }
   ],
   "source": [
    "regr.score(X, y)"
   ]
  },
  {
   "cell_type": "markdown",
   "metadata": {},
   "source": [
    "かなり決定係数の値が小さいことがわかる。  \n",
    "ここから`kernel`, `C`, `epsilon`, `gamma`, `degree`をグリッドサーチすることによってチューニングして値を大きくしてみる。"
   ]
  },
  {
   "cell_type": "markdown",
   "metadata": {},
   "source": [
    "#### 2.3 グリッドサーチによるパラメータチューニング"
   ]
  },
  {
   "cell_type": "markdown",
   "metadata": {},
   "source": [
    "パラメータチューニングは何度も反復して計算するため、計算コストが非常に高くなる場合があります。<br>\n",
    "Jupyter Notebookでは`%%time`とセルの最初に書くことで計算にかかった時間が表示されます。  \n",
    "これ以降の計算は私のパソコンでどれぐらい計算に時間がかかったか目安として書いていますので、  \n",
    "そちらを参考に計算するか判断して実行してみてください。"
   ]
  },
  {
   "cell_type": "markdown",
   "metadata": {},
   "source": [
    "##### 2.3.1 チューニングするパラメータの定義"
   ]
  },
  {
   "cell_type": "markdown",
   "metadata": {},
   "source": [
    "SVRのパラメータは最大で４つあり個々に変化させて調べるのは大変なので[GridSearchCV](http://scikit-learn.org/stable/modules/generated/sklearn.model_selection.GridSearchCV.html#sklearn.model_selection.GridSearchCV)クラスを用いる。  \n",
    "GridSearchCVは今回のグリッドサーチのような網羅的な探索が必要な時に使う関数である。  "
   ]
  },
  {
   "cell_type": "markdown",
   "metadata": {},
   "source": [
    "まずはチューニングするパラメータの取り得るグリッドの幅を決める。\n",
    "以下のパラメータでは\n",
    "- `kernel`は`poly`, `rbf`, `sigmoid`の計3つ\n",
    "- `C`は`1/4`, `1/2`, `0`, `2`, `4`の計5つ  \n",
    "\n",
    "用いるので、計3 × 5 = 15パターンのSVRのパラメータでモデルを構築することになる。"
   ]
  },
  {
   "cell_type": "code",
   "execution_count": 10,
   "metadata": {},
   "outputs": [],
   "source": [
    "parameters = {\n",
    "    'kernel': ('poly', 'rbf', 'sigmoid'),\n",
    "    'C': (2**-2, 2**-1, 2**0, 2**1, 2**2),\n",
    "}"
   ]
  },
  {
   "cell_type": "markdown",
   "metadata": {},
   "source": [
    "##### 2.3.2 グリッドサーチを行う"
   ]
  },
  {
   "cell_type": "markdown",
   "metadata": {},
   "source": [
    "今回は5-fold cross validationを行ってチューニングするようにする。  \n",
    "したがって計15パターン × 5fold = 75回モデルを構築することになる。"
   ]
  },
  {
   "cell_type": "code",
   "execution_count": 11,
   "metadata": {},
   "outputs": [
    {
     "name": "stdout",
     "output_type": "stream",
     "text": [
      "CPU times: user 5.3 s, sys: 90 ms, total: 5.39 s\n",
      "Wall time: 5.4 s\n"
     ]
    }
   ],
   "source": [
    "%%time\n",
    "svr = SVR()\n",
    "regr = GridSearchCV(svr, parameters, cv=5)\n",
    "regr.fit(X, y)"
   ]
  },
  {
   "cell_type": "markdown",
   "metadata": {},
   "source": [
    "約5秒で計算が終了した。  \n",
    "`best_estimator_`に最も性能が良い時のモデルとそのモデルのパラメータの値が保存されている。"
   ]
  },
  {
   "cell_type": "code",
   "execution_count": 12,
   "metadata": {},
   "outputs": [
    {
     "name": "stdout",
     "output_type": "stream",
     "text": [
      "Best Estimator:\n",
      "SVR(C=4, cache_size=200, coef0=0.0, degree=3, epsilon=0.1, gamma='auto',\n",
      "  kernel='sigmoid', max_iter=-1, shrinking=True, tol=0.001, verbose=False)\n",
      "\n"
     ]
    }
   ],
   "source": [
    "print(f'Best Estimator:\\n{regr.best_estimator_}\\n')"
   ]
  },
  {
   "cell_type": "markdown",
   "metadata": {},
   "source": [
    "今回のデータでは、`kernel=sigmoid`, `C=4`のときが最も性能が良い。  \n",
    "ただし今回の例では`C=4`はパラメータ候補の一番端であり、`C=8`, `C=16`としていくとより良いスコアを得られる可能性はあるため、  \n",
    "さらに性能を良くしたい時にはパラメータ候補を増やしていく必要がある。"
   ]
  },
  {
   "cell_type": "markdown",
   "metadata": {},
   "source": [
    "続けて2.2の結果と比較するために実測値`y`と予測値の間の決定係数(r<sup>2</sup>)を`score`を用いて求めてみる。"
   ]
  },
  {
   "cell_type": "code",
   "execution_count": 13,
   "metadata": {},
   "outputs": [
    {
     "data": {
      "text/plain": [
       "0.9944363691782484"
      ]
     },
     "execution_count": 13,
     "metadata": {},
     "output_type": "execute_result"
    }
   ],
   "source": [
    "regr.best_estimator_.score(X, y)"
   ]
  },
  {
   "cell_type": "markdown",
   "metadata": {},
   "source": [
    "2.2で求めたチューニングをまったくしていない時の値である約0.29と比べるとはるかに良くなっているのがわかる。"
   ]
  },
  {
   "cell_type": "markdown",
   "metadata": {},
   "source": [
    "また`cv_results_`にチューニングのすべての結果が保存されている。以下に一部を表示してみる。"
   ]
  },
  {
   "cell_type": "code",
   "execution_count": 14,
   "metadata": {},
   "outputs": [
    {
     "data": {
      "text/html": [
       "<div>\n",
       "<table border=\"1\" class=\"dataframe\">\n",
       "  <thead>\n",
       "    <tr style=\"text-align: right;\">\n",
       "      <th></th>\n",
       "      <th>mean_fit_time</th>\n",
       "      <th>mean_score_time</th>\n",
       "      <th>mean_test_score</th>\n",
       "      <th>mean_train_score</th>\n",
       "      <th>param_C</th>\n",
       "      <th>param_kernel</th>\n",
       "      <th>params</th>\n",
       "      <th>rank_test_score</th>\n",
       "      <th>split0_test_score</th>\n",
       "      <th>split0_train_score</th>\n",
       "      <th>...</th>\n",
       "      <th>split2_test_score</th>\n",
       "      <th>split2_train_score</th>\n",
       "      <th>split3_test_score</th>\n",
       "      <th>split3_train_score</th>\n",
       "      <th>split4_test_score</th>\n",
       "      <th>split4_train_score</th>\n",
       "      <th>std_fit_time</th>\n",
       "      <th>std_score_time</th>\n",
       "      <th>std_test_score</th>\n",
       "      <th>std_train_score</th>\n",
       "    </tr>\n",
       "  </thead>\n",
       "  <tbody>\n",
       "    <tr>\n",
       "      <th>0</th>\n",
       "      <td>0.031598</td>\n",
       "      <td>0.002819</td>\n",
       "      <td>0.054519</td>\n",
       "      <td>0.062209</td>\n",
       "      <td>0.25</td>\n",
       "      <td>poly</td>\n",
       "      <td>{'C': 0.25, 'kernel': 'poly'}</td>\n",
       "      <td>15</td>\n",
       "      <td>0.057751</td>\n",
       "      <td>0.062491</td>\n",
       "      <td>...</td>\n",
       "      <td>0.055802</td>\n",
       "      <td>0.061496</td>\n",
       "      <td>0.062406</td>\n",
       "      <td>0.061906</td>\n",
       "      <td>0.040311</td>\n",
       "      <td>0.061782</td>\n",
       "      <td>0.001807</td>\n",
       "      <td>0.000220</td>\n",
       "      <td>0.007476</td>\n",
       "      <td>0.000664</td>\n",
       "    </tr>\n",
       "    <tr>\n",
       "      <th>1</th>\n",
       "      <td>0.044833</td>\n",
       "      <td>0.006114</td>\n",
       "      <td>0.056380</td>\n",
       "      <td>0.061911</td>\n",
       "      <td>0.25</td>\n",
       "      <td>rbf</td>\n",
       "      <td>{'C': 0.25, 'kernel': 'rbf'}</td>\n",
       "      <td>14</td>\n",
       "      <td>0.059110</td>\n",
       "      <td>0.062045</td>\n",
       "      <td>...</td>\n",
       "      <td>0.057075</td>\n",
       "      <td>0.061561</td>\n",
       "      <td>0.059550</td>\n",
       "      <td>0.063623</td>\n",
       "      <td>0.045074</td>\n",
       "      <td>0.060752</td>\n",
       "      <td>0.001592</td>\n",
       "      <td>0.000459</td>\n",
       "      <td>0.005796</td>\n",
       "      <td>0.000952</td>\n",
       "    </tr>\n",
       "    <tr>\n",
       "      <th>2</th>\n",
       "      <td>0.055059</td>\n",
       "      <td>0.007849</td>\n",
       "      <td>0.170023</td>\n",
       "      <td>0.174255</td>\n",
       "      <td>0.25</td>\n",
       "      <td>sigmoid</td>\n",
       "      <td>{'C': 0.25, 'kernel': 'sigmoid'}</td>\n",
       "      <td>11</td>\n",
       "      <td>0.172404</td>\n",
       "      <td>0.174626</td>\n",
       "      <td>...</td>\n",
       "      <td>0.169084</td>\n",
       "      <td>0.173071</td>\n",
       "      <td>0.175603</td>\n",
       "      <td>0.176852</td>\n",
       "      <td>0.157821</td>\n",
       "      <td>0.172863</td>\n",
       "      <td>0.008022</td>\n",
       "      <td>0.000858</td>\n",
       "      <td>0.006533</td>\n",
       "      <td>0.001441</td>\n",
       "    </tr>\n",
       "    <tr>\n",
       "      <th>3</th>\n",
       "      <td>0.036493</td>\n",
       "      <td>0.003507</td>\n",
       "      <td>0.111106</td>\n",
       "      <td>0.122362</td>\n",
       "      <td>0.5</td>\n",
       "      <td>poly</td>\n",
       "      <td>{'C': 0.5, 'kernel': 'poly'}</td>\n",
       "      <td>13</td>\n",
       "      <td>0.113705</td>\n",
       "      <td>0.122901</td>\n",
       "      <td>...</td>\n",
       "      <td>0.112197</td>\n",
       "      <td>0.120939</td>\n",
       "      <td>0.122731</td>\n",
       "      <td>0.121560</td>\n",
       "      <td>0.095677</td>\n",
       "      <td>0.122082</td>\n",
       "      <td>0.002870</td>\n",
       "      <td>0.000449</td>\n",
       "      <td>0.008731</td>\n",
       "      <td>0.001175</td>\n",
       "    </tr>\n",
       "    <tr>\n",
       "      <th>4</th>\n",
       "      <td>0.046956</td>\n",
       "      <td>0.006114</td>\n",
       "      <td>0.114682</td>\n",
       "      <td>0.121958</td>\n",
       "      <td>0.5</td>\n",
       "      <td>rbf</td>\n",
       "      <td>{'C': 0.5, 'kernel': 'rbf'}</td>\n",
       "      <td>12</td>\n",
       "      <td>0.116320</td>\n",
       "      <td>0.122209</td>\n",
       "      <td>...</td>\n",
       "      <td>0.114788</td>\n",
       "      <td>0.121309</td>\n",
       "      <td>0.117142</td>\n",
       "      <td>0.124943</td>\n",
       "      <td>0.104525</td>\n",
       "      <td>0.120262</td>\n",
       "      <td>0.002765</td>\n",
       "      <td>0.000227</td>\n",
       "      <td>0.005429</td>\n",
       "      <td>0.001617</td>\n",
       "    </tr>\n",
       "  </tbody>\n",
       "</table>\n",
       "<p>5 rows × 22 columns</p>\n",
       "</div>"
      ],
      "text/plain": [
       "   mean_fit_time  mean_score_time  mean_test_score  mean_train_score param_C  \\\n",
       "0       0.031598         0.002819         0.054519          0.062209    0.25   \n",
       "1       0.044833         0.006114         0.056380          0.061911    0.25   \n",
       "2       0.055059         0.007849         0.170023          0.174255    0.25   \n",
       "3       0.036493         0.003507         0.111106          0.122362     0.5   \n",
       "4       0.046956         0.006114         0.114682          0.121958     0.5   \n",
       "\n",
       "  param_kernel                            params  rank_test_score  \\\n",
       "0         poly     {'C': 0.25, 'kernel': 'poly'}               15   \n",
       "1          rbf      {'C': 0.25, 'kernel': 'rbf'}               14   \n",
       "2      sigmoid  {'C': 0.25, 'kernel': 'sigmoid'}               11   \n",
       "3         poly      {'C': 0.5, 'kernel': 'poly'}               13   \n",
       "4          rbf       {'C': 0.5, 'kernel': 'rbf'}               12   \n",
       "\n",
       "   split0_test_score  split0_train_score       ...         split2_test_score  \\\n",
       "0           0.057751            0.062491       ...                  0.055802   \n",
       "1           0.059110            0.062045       ...                  0.057075   \n",
       "2           0.172404            0.174626       ...                  0.169084   \n",
       "3           0.113705            0.122901       ...                  0.112197   \n",
       "4           0.116320            0.122209       ...                  0.114788   \n",
       "\n",
       "   split2_train_score  split3_test_score  split3_train_score  \\\n",
       "0            0.061496           0.062406            0.061906   \n",
       "1            0.061561           0.059550            0.063623   \n",
       "2            0.173071           0.175603            0.176852   \n",
       "3            0.120939           0.122731            0.121560   \n",
       "4            0.121309           0.117142            0.124943   \n",
       "\n",
       "   split4_test_score  split4_train_score  std_fit_time  std_score_time  \\\n",
       "0           0.040311            0.061782      0.001807        0.000220   \n",
       "1           0.045074            0.060752      0.001592        0.000459   \n",
       "2           0.157821            0.172863      0.008022        0.000858   \n",
       "3           0.095677            0.122082      0.002870        0.000449   \n",
       "4           0.104525            0.120262      0.002765        0.000227   \n",
       "\n",
       "   std_test_score  std_train_score  \n",
       "0        0.007476         0.000664  \n",
       "1        0.005796         0.000952  \n",
       "2        0.006533         0.001441  \n",
       "3        0.008731         0.001175  \n",
       "4        0.005429         0.001617  \n",
       "\n",
       "[5 rows x 22 columns]"
      ]
     },
     "execution_count": 14,
     "metadata": {},
     "output_type": "execute_result"
    }
   ],
   "source": [
    "df = pd.DataFrame(regr.cv_results_)\n",
    "df.head()"
   ]
  },
  {
   "cell_type": "markdown",
   "metadata": {},
   "source": [
    "#### 2.3.3 さらにグリッドサーチを行う"
   ]
  },
  {
   "cell_type": "markdown",
   "metadata": {},
   "source": [
    "グリッドサーチをするパラメータの数を増やしてチューニングを行う。  \n",
    "以下のパラメータでは\n",
    "- `kernel`は`poly`, `rbf`, `sigmoid`の計3つ\n",
    "- `C`は`1/4`, `1/2`, `0`, `2`, `4`の計5つ  \n",
    "- `epsilon`は`1/4`, `1/2`, `0`, `2`, `4`の計5つ  \n",
    "用いるので、計3 × 5 × 5 = 75パターンのSVRのパラメータでモデルを構築することになる。"
   ]
  },
  {
   "cell_type": "code",
   "execution_count": 15,
   "metadata": {},
   "outputs": [],
   "source": [
    "parameters = {\n",
    "    'kernel': ('poly', 'rbf', 'sigmoid'),\n",
    "    'C': (2**-2, 2**-1, 2**0, 2**1, 2**2),\n",
    "    'epsilon': (2**-2, 2**-1, 2**0, 2**1, 2**2),\n",
    "}"
   ]
  },
  {
   "cell_type": "markdown",
   "metadata": {},
   "source": [
    "今回も5-fold cross validationを行ってチューニングするようにする。  \n",
    "したがって計75パターン × 5fold = 375回モデルを構築することになる。"
   ]
  },
  {
   "cell_type": "code",
   "execution_count": 16,
   "metadata": {
    "scrolled": true
   },
   "outputs": [
    {
     "name": "stdout",
     "output_type": "stream",
     "text": [
      "CPU times: user 24.5 s, sys: 660 ms, total: 25.2 s\n",
      "Wall time: 25.2 s\n"
     ]
    }
   ],
   "source": [
    "%%time\n",
    "svr = SVR()\n",
    "regr = GridSearchCV(svr, parameters, cv=5)\n",
    "regr.fit(X, y)"
   ]
  },
  {
   "cell_type": "markdown",
   "metadata": {},
   "source": [
    "約30秒で計算が終了した。  \n",
    "`best_estimator_`に最も性能が良い時のモデルとそのモデルのパラメータの値が保存されている。"
   ]
  },
  {
   "cell_type": "code",
   "execution_count": 17,
   "metadata": {},
   "outputs": [
    {
     "name": "stdout",
     "output_type": "stream",
     "text": [
      "Best Estimator:\n",
      "SVR(C=4, cache_size=200, coef0=0.0, degree=3, epsilon=2, gamma='auto',\n",
      "  kernel='sigmoid', max_iter=-1, shrinking=True, tol=0.001, verbose=False)\n",
      "\n"
     ]
    }
   ],
   "source": [
    "print(f'Best Estimator:\\n{regr.best_estimator_}\\n')"
   ]
  },
  {
   "cell_type": "markdown",
   "metadata": {},
   "source": [
    "今回のデータでは、`kernel=sigmoid`, `C=4`, `epsilon=2`のときが最も性能が良い。  \n",
    "ただし2.3.2同様、今回の例では`C=4`はパラメータ候補の一番端であり、`C=8`, `C=16`としていくとより良いスコアを得られる可能性はあるため、  \n",
    "さらに性能を良くしたい時にはパラメータ候補を増やしていく必要がある。"
   ]
  },
  {
   "cell_type": "markdown",
   "metadata": {},
   "source": [
    "続けて2.2の結果と比較するために実測値`y`と予測値の間の決定係数(r<sup>2</sup>)を`score`を用いて求めてみる。"
   ]
  },
  {
   "cell_type": "code",
   "execution_count": 18,
   "metadata": {},
   "outputs": [
    {
     "data": {
      "text/plain": [
       "0.99490138026625841"
      ]
     },
     "execution_count": 18,
     "metadata": {},
     "output_type": "execute_result"
    }
   ],
   "source": [
    "regr.best_estimator_.score(X, y)"
   ]
  },
  {
   "cell_type": "markdown",
   "metadata": {},
   "source": [
    "2.2はもちろん2.3.2で求めた値よりも(2.3.2とはごくわずかであるが)良くなっているのがわかる。"
   ]
  },
  {
   "cell_type": "markdown",
   "metadata": {},
   "source": [
    "#### 2.3.4 さらにさらにグリッドサーチを行う"
   ]
  },
  {
   "cell_type": "markdown",
   "metadata": {},
   "source": [
    "さらにグリッドサーチをするパラメータの数を増やしてチューニングを行う。  \n",
    "以下のパラメータでは\n",
    "- `kernel`は`poly`, `rbf`, `sigmoid`の計3つ\n",
    "- `C`は`1/4`, `1/2`, `0`, `2`, `4`の計5つ  \n",
    "- `epsilon`は`1/4`, `1/2`, `0`, `2`, `4`の計5つ  \n",
    "- `gamma`は`2の-14乗`, `2の-12乗`, `2の-10乗`, `2の-8乗`, `2の-6乗`の計5つ  \n",
    "用いるので、計3 × 5 × 5 × 5 = 375パターンのSVRのパラメータでモデルを構築することになる。"
   ]
  },
  {
   "cell_type": "code",
   "execution_count": 19,
   "metadata": {},
   "outputs": [],
   "source": [
    "parameters = {\n",
    "    'kernel': ('poly', 'rbf', 'sigmoid'),\n",
    "    'C': (2**-2, 2**-1, 2**0, 2**1, 2**2),\n",
    "    'epsilon': (2**-2, 2**-1, 2**0, 2**1, 2**2),\n",
    "    'gamma': (2**-14, 2**-12, 2**-10, 2**-8, 2**-6),\n",
    "}"
   ]
  },
  {
   "cell_type": "markdown",
   "metadata": {},
   "source": [
    "今回も5-fold cross validationを行ってチューニングするようにする。  \n",
    "したがって計375パターン × 5fold = 1875回モデルを構築することになる。"
   ]
  },
  {
   "cell_type": "code",
   "execution_count": 20,
   "metadata": {
    "scrolled": true
   },
   "outputs": [
    {
     "name": "stdout",
     "output_type": "stream",
     "text": [
      "CPU times: user 1min 55s, sys: 2.52 s, total: 1min 58s\n",
      "Wall time: 1min 58s\n"
     ]
    }
   ],
   "source": [
    "%%time\n",
    "svr = SVR()\n",
    "regr = GridSearchCV(svr, parameters, cv=5)\n",
    "regr.fit(X, y)"
   ]
  },
  {
   "cell_type": "markdown",
   "metadata": {},
   "source": [
    "約2分で計算が終了した。  \n",
    "`best_estimator_`に最も性能が良い時のモデルとそのモデルのパラメータの値が保存されている。"
   ]
  },
  {
   "cell_type": "code",
   "execution_count": 21,
   "metadata": {},
   "outputs": [
    {
     "name": "stdout",
     "output_type": "stream",
     "text": [
      "Best Estimator:\n",
      "SVR(C=4, cache_size=200, coef0=0.0, degree=3, epsilon=0.25, gamma=0.015625,\n",
      "  kernel='rbf', max_iter=-1, shrinking=True, tol=0.001, verbose=False)\n",
      "\n"
     ]
    }
   ],
   "source": [
    "print(f'Best Estimator:\\n{regr.best_estimator_}\\n')"
   ]
  },
  {
   "cell_type": "markdown",
   "metadata": {},
   "source": [
    "今回のデータでは、`kernel=rbf`, `C=4`, `epsilon=0.25`, `gamma=0.015625`のときが最も性能が良い。  \n",
    "この時の2.2の結果と比較するために実測値`y`と予測値の間の決定係数(r<sup>2</sup>)を`score`を用いて求めてみる。"
   ]
  },
  {
   "cell_type": "code",
   "execution_count": 22,
   "metadata": {
    "scrolled": false
   },
   "outputs": [
    {
     "data": {
      "text/plain": [
       "0.69281542406271479"
      ]
     },
     "execution_count": 22,
     "metadata": {},
     "output_type": "execute_result"
    }
   ],
   "source": [
    "regr.best_estimator_.score(X, y)"
   ]
  },
  {
   "cell_type": "markdown",
   "metadata": {},
   "source": [
    "2.2よりはよくなったものの2.3.2, 2.3.3より大幅に悪くなってしまった。  \n",
    "これはデフォルトでは `gamma=1/説明変数の数` という値を使うが、今回は計算コストを下げるために`gamma`の値を小さくして行った。  \n",
    "その結果、局所最適解に陥り、今回の候補のパラメータの中では最も良いもののもっとはるかに良いパラメータの値が存在することになってしまった。  "
   ]
  },
  {
   "cell_type": "markdown",
   "metadata": {},
   "source": [
    "このようなことにもならないように適切なパラメータの候補を設定するのが望ましい。  \n",
    "なお `gamma` の値は大きくすると計算コストが大きくなる傾向があるので伸長に増やしていく必要がある。  \n",
    "私も今回の例でなかなか計算が終わらず途中で何度も強制終了するということを繰り返した。もうこれ以上したくない。"
   ]
  }
 ],
 "metadata": {
  "kernelspec": {
   "display_name": "Python 3",
   "language": "python",
   "name": "python3"
  },
  "language_info": {
   "codemirror_mode": {
    "name": "ipython",
    "version": 3
   },
   "file_extension": ".py",
   "mimetype": "text/x-python",
   "name": "python",
   "nbconvert_exporter": "python",
   "pygments_lexer": "ipython3",
   "version": "3.6.2"
  }
 },
 "nbformat": 4,
 "nbformat_minor": 2
}
