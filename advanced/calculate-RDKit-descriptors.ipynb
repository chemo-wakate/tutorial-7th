{
 "cells": [
  {
   "cell_type": "markdown",
   "metadata": {},
   "source": [
    "RDKitで計算可能な記述子を計算する。[計算可能な記述子一覧](http://www.rdkit.org/docs/GettingStartedInPython.html#list-of-available-descriptors)"
   ]
  },
  {
   "cell_type": "code",
   "execution_count": 1,
   "metadata": {},
   "outputs": [
    {
     "name": "stdout",
     "output_type": "stream",
     "text": [
      "sys.version_info(major=3, minor=6, micro=2, releaselevel='final', serial=0)\n",
      "rdkit version: 2017.03.3\n"
     ]
    }
   ],
   "source": [
    "import numpy as np\n",
    "import pandas as pd\n",
    "import sys\n",
    "\n",
    "from rdkit import Chem\n",
    "from rdkit.Chem import Descriptors\n",
    "from rdkit.ML.Descriptors import MoleculeDescriptors\n",
    "from rdkit.rdBase import rdkitVersion\n",
    "\n",
    "\n",
    "print(sys.version_info)\n",
    "print(f'rdkit version: {rdkitVersion}')"
   ]
  },
  {
   "cell_type": "markdown",
   "metadata": {},
   "source": [
    "### 1. 記述子を計算させる分子の読み込み"
   ]
  },
  {
   "cell_type": "markdown",
   "metadata": {},
   "source": [
    "#### 1.1 SDF"
   ]
  },
  {
   "cell_type": "code",
   "execution_count": 2,
   "metadata": {},
   "outputs": [
    {
     "data": {
      "text/plain": [
       "[<rdkit.Chem.rdchem.Mol at 0x7fae579dccb0>,\n",
       " <rdkit.Chem.rdchem.Mol at 0x7fae579dcd00>,\n",
       " <rdkit.Chem.rdchem.Mol at 0x7fae579dcd50>,\n",
       " <rdkit.Chem.rdchem.Mol at 0x7fae579dcda0>,\n",
       " <rdkit.Chem.rdchem.Mol at 0x7fae579dcdf0>]"
      ]
     },
     "execution_count": 2,
     "metadata": {},
     "output_type": "execute_result"
    }
   ],
   "source": [
    "mols = [mol for mol in Chem.SDMolSupplier('input.sdf') if mol is not None]\n",
    "mols[:5]"
   ]
  },
  {
   "cell_type": "markdown",
   "metadata": {},
   "source": [
    "#### 1.2 SMILES"
   ]
  },
  {
   "cell_type": "code",
   "execution_count": 3,
   "metadata": {
    "scrolled": true
   },
   "outputs": [
    {
     "data": {
      "text/plain": [
       "[<rdkit.Chem.rdchem.Mol at 0x7fae579f55d0>,\n",
       " <rdkit.Chem.rdchem.Mol at 0x7fae579f54e0>,\n",
       " <rdkit.Chem.rdchem.Mol at 0x7fae579f5530>,\n",
       " <rdkit.Chem.rdchem.Mol at 0x7fae579f5670>,\n",
       " <rdkit.Chem.rdchem.Mol at 0x7fae579f56c0>]"
      ]
     },
     "execution_count": 3,
     "metadata": {},
     "output_type": "execute_result"
    }
   ],
   "source": [
    "mols = [mol for mol in Chem.SmilesMolSupplier('input.smi', titleLine=False) if mol is not None]\n",
    "mols[:5]"
   ]
  },
  {
   "cell_type": "markdown",
   "metadata": {},
   "source": [
    "#### 1.3 直接SMILESを書く"
   ]
  },
  {
   "cell_type": "code",
   "execution_count": 4,
   "metadata": {},
   "outputs": [
    {
     "data": {
      "text/plain": [
       "[<rdkit.Chem.rdchem.Mol at 0x7fae579f5620>,\n",
       " <rdkit.Chem.rdchem.Mol at 0x7fae579f5800>,\n",
       " <rdkit.Chem.rdchem.Mol at 0x7fae579f5490>,\n",
       " <rdkit.Chem.rdchem.Mol at 0x7fae579f5710>,\n",
       " <rdkit.Chem.rdchem.Mol at 0x7fae579f5850>]"
      ]
     },
     "execution_count": 4,
     "metadata": {},
     "output_type": "execute_result"
    }
   ],
   "source": [
    "smiles_set = [\n",
    "    'c1ccccc1',\n",
    "    'c1ccccc1Cl',\n",
    "    'c1ccccc1Br',\n",
    "    'C1CCCCC1',\n",
    "    'C1CCCC1'\n",
    "]\n",
    "mols = [Chem.MolFromSmiles(smiles) for smiles in smiles_set]\n",
    "mols[:5]"
   ]
  },
  {
   "cell_type": "markdown",
   "metadata": {},
   "source": [
    "### 2. 計算する記述子の選択"
   ]
  },
  {
   "cell_type": "markdown",
   "metadata": {},
   "source": [
    "計算可能な記述子の名前一覧は`Descriptors._descList`に関数と一緒に保存されている。"
   ]
  },
  {
   "cell_type": "code",
   "execution_count": 5,
   "metadata": {},
   "outputs": [
    {
     "data": {
      "text/plain": [
       "[('MolWt', <function rdkit.Chem.Descriptors.<lambda>>),\n",
       " ('HeavyAtomMolWt', <function rdkit.Chem.Descriptors.<lambda>>),\n",
       " ('ExactMolWt', <function rdkit.Chem.Descriptors.<lambda>>),\n",
       " ('NumValenceElectrons',\n",
       "  <function rdkit.Chem.Descriptors.NumValenceElectrons>),\n",
       " ('NumRadicalElectrons',\n",
       "  <function rdkit.Chem.Descriptors.NumRadicalElectrons>)]"
      ]
     },
     "execution_count": 5,
     "metadata": {},
     "output_type": "execute_result"
    }
   ],
   "source": [
    "Descriptors._descList[:5]"
   ]
  },
  {
   "cell_type": "code",
   "execution_count": 6,
   "metadata": {},
   "outputs": [
    {
     "data": {
      "text/plain": [
       "196"
      ]
     },
     "execution_count": 6,
     "metadata": {},
     "output_type": "execute_result"
    }
   ],
   "source": [
    "len(Descriptors._descList)"
   ]
  },
  {
   "cell_type": "markdown",
   "metadata": {},
   "source": [
    "RDKit (version 2017.03.3) では、全部で196個の記述子を計算することができる。  \n",
    "さらに以下のように実行することで名前だけ取り出すことができる。"
   ]
  },
  {
   "cell_type": "code",
   "execution_count": 7,
   "metadata": {},
   "outputs": [
    {
     "data": {
      "text/plain": [
       "['MolWt',\n",
       " 'HeavyAtomMolWt',\n",
       " 'ExactMolWt',\n",
       " 'NumValenceElectrons',\n",
       " 'NumRadicalElectrons']"
      ]
     },
     "execution_count": 7,
     "metadata": {},
     "output_type": "execute_result"
    }
   ],
   "source": [
    "names = [x[0] for x in Descriptors._descList]\n",
    "names[:5]"
   ]
  },
  {
   "cell_type": "markdown",
   "metadata": {},
   "source": [
    "`names`から計算する必要がない記述子があるならそれを取り除く。今回は先頭の5個だけ計算してみる。  "
   ]
  },
  {
   "cell_type": "code",
   "execution_count": 8,
   "metadata": {},
   "outputs": [
    {
     "data": {
      "text/plain": [
       "['MolWt',\n",
       " 'HeavyAtomMolWt',\n",
       " 'ExactMolWt',\n",
       " 'NumValenceElectrons',\n",
       " 'NumRadicalElectrons']"
      ]
     },
     "execution_count": 8,
     "metadata": {},
     "output_type": "execute_result"
    }
   ],
   "source": [
    "names = names[:5]\n",
    "names"
   ]
  },
  {
   "cell_type": "markdown",
   "metadata": {},
   "source": [
    "### 3. 記述子計算"
   ]
  },
  {
   "cell_type": "markdown",
   "metadata": {},
   "source": [
    "#### 3.1 複数の記述子を一括で計算する"
   ]
  },
  {
   "cell_type": "markdown",
   "metadata": {},
   "source": [
    "複数の記述子をまとめて計算するには`MoleculeDescriptors`モジュールの[MolecularDescriptorCalculator](http://www.rdkit.org/Python_Docs/rdkit.ML.Descriptors.MoleculeDescriptors.MolecularDescriptorCalculator-class.html)クラスを用いる。"
   ]
  },
  {
   "cell_type": "code",
   "execution_count": 9,
   "metadata": {},
   "outputs": [
    {
     "data": {
      "text/plain": [
       "[(78.11399999999999, 72.06599999999999, 78.046950192, 30, 0),\n",
       " (112.559, 107.51899999999999, 112.00797784, 36, 0),\n",
       " (157.01, 151.96999999999997, 155.95746226, 36, 0),\n",
       " (84.162, 72.06599999999999, 84.093900384, 36, 0),\n",
       " (70.135, 60.05499999999999, 70.07825032, 30, 0)]"
      ]
     },
     "execution_count": 9,
     "metadata": {},
     "output_type": "execute_result"
    }
   ],
   "source": [
    "calc = MoleculeDescriptors.MolecularDescriptorCalculator(names)\n",
    "descs = [calc.CalcDescriptors(mol) for mol in mols]\n",
    "descs"
   ]
  },
  {
   "cell_type": "markdown",
   "metadata": {},
   "source": [
    "機械学習などで用いるためにデータフレームに変換してみる。"
   ]
  },
  {
   "cell_type": "code",
   "execution_count": 10,
   "metadata": {},
   "outputs": [
    {
     "data": {
      "text/html": [
       "<div>\n",
       "<style>\n",
       "    .dataframe thead tr:only-child th {\n",
       "        text-align: right;\n",
       "    }\n",
       "\n",
       "    .dataframe thead th {\n",
       "        text-align: left;\n",
       "    }\n",
       "\n",
       "    .dataframe tbody tr th {\n",
       "        vertical-align: top;\n",
       "    }\n",
       "</style>\n",
       "<table border=\"1\" class=\"dataframe\">\n",
       "  <thead>\n",
       "    <tr style=\"text-align: right;\">\n",
       "      <th></th>\n",
       "      <th>MolWt</th>\n",
       "      <th>HeavyAtomMolWt</th>\n",
       "      <th>ExactMolWt</th>\n",
       "      <th>NumValenceElectrons</th>\n",
       "      <th>NumRadicalElectrons</th>\n",
       "    </tr>\n",
       "  </thead>\n",
       "  <tbody>\n",
       "    <tr>\n",
       "      <th>0</th>\n",
       "      <td>78.114</td>\n",
       "      <td>72.066</td>\n",
       "      <td>78.046950</td>\n",
       "      <td>30</td>\n",
       "      <td>0</td>\n",
       "    </tr>\n",
       "    <tr>\n",
       "      <th>1</th>\n",
       "      <td>112.559</td>\n",
       "      <td>107.519</td>\n",
       "      <td>112.007978</td>\n",
       "      <td>36</td>\n",
       "      <td>0</td>\n",
       "    </tr>\n",
       "    <tr>\n",
       "      <th>2</th>\n",
       "      <td>157.010</td>\n",
       "      <td>151.970</td>\n",
       "      <td>155.957462</td>\n",
       "      <td>36</td>\n",
       "      <td>0</td>\n",
       "    </tr>\n",
       "    <tr>\n",
       "      <th>3</th>\n",
       "      <td>84.162</td>\n",
       "      <td>72.066</td>\n",
       "      <td>84.093900</td>\n",
       "      <td>36</td>\n",
       "      <td>0</td>\n",
       "    </tr>\n",
       "    <tr>\n",
       "      <th>4</th>\n",
       "      <td>70.135</td>\n",
       "      <td>60.055</td>\n",
       "      <td>70.078250</td>\n",
       "      <td>30</td>\n",
       "      <td>0</td>\n",
       "    </tr>\n",
       "  </tbody>\n",
       "</table>\n",
       "</div>"
      ],
      "text/plain": [
       "     MolWt  HeavyAtomMolWt  ExactMolWt  NumValenceElectrons  \\\n",
       "0   78.114          72.066   78.046950                   30   \n",
       "1  112.559         107.519  112.007978                   36   \n",
       "2  157.010         151.970  155.957462                   36   \n",
       "3   84.162          72.066   84.093900                   36   \n",
       "4   70.135          60.055   70.078250                   30   \n",
       "\n",
       "   NumRadicalElectrons  \n",
       "0                    0  \n",
       "1                    0  \n",
       "2                    0  \n",
       "3                    0  \n",
       "4                    0  "
      ]
     },
     "execution_count": 10,
     "metadata": {},
     "output_type": "execute_result"
    }
   ],
   "source": [
    "df = pd.DataFrame(descs, columns=names)\n",
    "df.head()"
   ]
  },
  {
   "cell_type": "markdown",
   "metadata": {},
   "source": [
    "さらにcsvファイルなどで保存したい場合は`to_csv`メソッドを用いればよい。  \n",
    "今回の例にはないが化合物の名前にはカンマを含むことがしばしばあるため、カンマ区切りではなくタブ区切りなどをしたほうがよい。  \n",
    "以下にタブ区切りで出力する例を示す。"
   ]
  },
  {
   "cell_type": "code",
   "execution_count": 11,
   "metadata": {},
   "outputs": [],
   "source": [
    "df.to_csv('desc.csv', sep='\\t')"
   ]
  },
  {
   "cell_type": "markdown",
   "metadata": {},
   "source": [
    "カレントディレクトリの`desc.csv`に計算した記述子が出力される。"
   ]
  },
  {
   "cell_type": "markdown",
   "metadata": {},
   "source": [
    "#### 3.2 一つずつ記述子を計算する"
   ]
  },
  {
   "cell_type": "markdown",
   "metadata": {},
   "source": [
    "一つずつ記述子を計算するには`Descriptors`モジュールの各関数を用いればよい。  \n",
    "例えば、分子量を計算する場合は以下のようになる。"
   ]
  },
  {
   "cell_type": "code",
   "execution_count": 12,
   "metadata": {},
   "outputs": [
    {
     "data": {
      "text/plain": [
       "78.11399999999999"
      ]
     },
     "execution_count": 12,
     "metadata": {},
     "output_type": "execute_result"
    }
   ],
   "source": [
    "mol = Chem.MolFromSmiles('c1ccccc1')\n",
    "Descriptors.MolWt(mol)"
   ]
  }
 ],
 "metadata": {
  "kernelspec": {
   "display_name": "Python 3",
   "language": "python",
   "name": "python3"
  },
  "language_info": {
   "codemirror_mode": {
    "name": "ipython",
    "version": 3
   },
   "file_extension": ".py",
   "mimetype": "text/x-python",
   "name": "python",
   "nbconvert_exporter": "python",
   "pygments_lexer": "ipython3",
   "version": "3.6.2"
  }
 },
 "nbformat": 4,
 "nbformat_minor": 2
}
